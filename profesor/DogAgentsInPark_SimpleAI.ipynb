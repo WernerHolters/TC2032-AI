{
  "nbformat": 4,
  "nbformat_minor": 0,
  "metadata": {
    "colab": {
      "provenance": []
    },
    "kernelspec": {
      "name": "python3",
      "display_name": "Python 3"
    },
    "language_info": {
      "name": "python"
    }
  },
  "cells": [
    {
      "cell_type": "code",
      "source": [
        "!pip install simpleai"
      ],
      "metadata": {
        "colab": {
          "base_uri": "https://localhost:8080/"
        },
        "id": "fve8WquDW3CK",
        "outputId": "3f2a9585-7824-40be-8089-568d2a651fa2"
      },
      "execution_count": 1,
      "outputs": [
        {
          "output_type": "stream",
          "name": "stdout",
          "text": [
            "Collecting simpleai\n",
            "  Downloading simpleai-0.8.3.tar.gz (94 kB)\n",
            "\u001b[?25l     \u001b[90m━━━━━━━━━━━━━━━━━━━━━━━━━━━━━━━━━━━━━━━━\u001b[0m \u001b[32m0.0/94.4 kB\u001b[0m \u001b[31m?\u001b[0m eta \u001b[36m-:--:--\u001b[0m\r\u001b[2K     \u001b[90m━━━━━━━━━━━━━━━━━━━━━━━━━━━━━━━━━━━━━━━━\u001b[0m \u001b[32m94.4/94.4 kB\u001b[0m \u001b[31m2.7 MB/s\u001b[0m eta \u001b[36m0:00:00\u001b[0m\n",
            "\u001b[?25h  Preparing metadata (setup.py) ... \u001b[?25l\u001b[?25hdone\n",
            "Building wheels for collected packages: simpleai\n",
            "  Building wheel for simpleai (setup.py) ... \u001b[?25l\u001b[?25hdone\n",
            "  Created wheel for simpleai: filename=simpleai-0.8.3-py3-none-any.whl size=100984 sha256=f062a2a69febaa15086af97fa6fab87c4655e54c298e8eaebe2c14fd0eb6d792\n",
            "  Stored in directory: /root/.cache/pip/wheels/91/0c/38/421d7910e7bc59b97fc54f490808bdb1097607d83d1a592865\n",
            "Successfully built simpleai\n",
            "Installing collected packages: simpleai\n",
            "Successfully installed simpleai-0.8.3\n"
          ]
        }
      ]
    },
    {
      "cell_type": "code",
      "execution_count": 2,
      "metadata": {
        "id": "9oI6aYGIV_uq"
      },
      "outputs": [],
      "source": [
        "class Food(object):\n",
        "    def __init__(self, location):\n",
        "        self.location = location\n",
        "\n",
        "class Water(object):\n",
        "    def __init__(self, location):\n",
        "        self.location = location\n",
        "\n",
        "class Agent:\n",
        "    def __init__(self, name, location=0):\n",
        "        self.location = location\n",
        "        self.name = name\n",
        "\n",
        "    def movedown(self):\n",
        "        '''increase the location of the agent'''\n",
        "        self.location += 1\n",
        "        print(\"Agent {}: moves down to location {}.\".format(self.name, self.location))\n",
        "\n",
        "    def eat(self, thing):\n",
        "        '''returns True upon success or False otherwise'''\n",
        "        if isinstance(thing, Food):\n",
        "            print(\"Agent {}: Ate food at {}.\".format(self.name, self.location))\n",
        "            return True\n",
        "        return False\n",
        "\n",
        "    def drink(self, thing):\n",
        "        ''' returns True upon success or False otherwise'''\n",
        "        if isinstance(thing, Water):\n",
        "            print(\"Agent {}: Drank water at {}.\".format(self.name, self.location))\n",
        "            return True\n",
        "        return False\n",
        "\n",
        "    def program(self, percepts):\n",
        "        '''Returns an action based on it's percepts'''\n",
        "        for p in percepts:\n",
        "            if isinstance(p, Food):\n",
        "                return 'eat'\n",
        "            elif isinstance(p, Water):\n",
        "                return 'drink'\n",
        "        return 'move down'"
      ]
    },
    {
      "cell_type": "code",
      "source": [
        "from simpleai.environments import Environment\n",
        "\n",
        "class Park(Environment):\n",
        "    def __init__(self, agents, initial_state):\n",
        "        super(Park, self).__init__(agents, initial_state)\n",
        "\n",
        "    def do_action(self, state, action, agent):\n",
        "        '''changes the state of the environment based on what the agent does.'''\n",
        "        if action == \"move down\":\n",
        "            agent.movedown()\n",
        "        elif action == \"eat\":\n",
        "            items = self.list_things_at(state, agent.location, tclass=Food)\n",
        "            if len(items) != 0:\n",
        "                if agent.eat(items[0]): #Have the dog pick eat the first item\n",
        "                    self.state.remove(items[0]) #Delete it from the Park after.\n",
        "        elif action == \"drink\":\n",
        "            items = self.list_things_at(state, agent.location, tclass=Water)\n",
        "            if len(items) != 0:\n",
        "                if agent.drink(items[0]): #Have the dog drink the first item\n",
        "                    self.state.remove(items[0]) #Delete it from the Park after.\n",
        "        return self.state\n",
        "\n",
        "    def is_completed(self, state):\n",
        "        '''By default, we're done when we can't find a live agent,\n",
        "        but to prevent killing our cute dog, we will or it with when there is no more food or water'''\n",
        "        no_edibles = not any(isinstance(thing, Food) or isinstance(thing, Water)\n",
        "                             for thing in state)\n",
        "        return no_edibles\n",
        "\n",
        "    def percept(self, agent, state):\n",
        "        '''prints & return a list of things that are in our agent's location'''\n",
        "        things = self.list_things_at(state, agent.location)\n",
        "        return things\n",
        "\n",
        "    def list_things_at(self, state, location, tclass=object):\n",
        "        things = [thing for thing in state\n",
        "                  if thing.location == location and isinstance(thing, tclass)]\n",
        "        return things"
      ],
      "metadata": {
        "id": "NJODE04zWM5y"
      },
      "execution_count": 3,
      "outputs": []
    },
    {
      "cell_type": "code",
      "source": [
        "dog = Agent(\"Dog\")\n",
        "dogfood = Food(5)\n",
        "water = Water(7)\n",
        "park = Park([dog],[dogfood, water])\n",
        "\n",
        "park.run(10)"
      ],
      "metadata": {
        "colab": {
          "base_uri": "https://localhost:8080/"
        },
        "id": "kZUloVw7WF1L",
        "outputId": "cbca5ca3-70a8-46b9-9bf7-7946f0b7f1b1"
      },
      "execution_count": 4,
      "outputs": [
        {
          "output_type": "stream",
          "name": "stdout",
          "text": [
            "Agent Dog: moves down to location 1.\n",
            "Agent Dog: moves down to location 2.\n",
            "Agent Dog: moves down to location 3.\n",
            "Agent Dog: moves down to location 4.\n",
            "Agent Dog: moves down to location 5.\n",
            "Agent Dog: Ate food at 5.\n",
            "Agent Dog: moves down to location 6.\n",
            "Agent Dog: moves down to location 7.\n",
            "Agent Dog: Drank water at 7.\n"
          ]
        }
      ]
    }
  ]
}