{
  "cells": [
    {
      "cell_type": "code",
      "execution_count": null,
      "metadata": {
        "colab": {
          "base_uri": "https://localhost:8080/"
        },
        "id": "4KUpHjXrUvjX",
        "outputId": "61b345af-6da9-4199-a20e-66db9aec1cac"
      },
      "outputs": [
        {
          "ename": "",
          "evalue": "",
          "output_type": "error",
          "traceback": [
            "\u001b[1;31mRunning cells with 'Python 3.13.5' requires the ipykernel package.\n",
            "\u001b[1;31m<a href='command:jupyter.createPythonEnvAndSelectController'>Create a Python Environment</a> with the required packages.\n",
            "\u001b[1;31mOr install 'ipykernel' using the command: 'c:/Users/Werner/AppData/Local/Programs/Python/Python313/python.exe -m pip install ipykernel -U --user --force-reinstall'"
          ]
        }
      ],
      "source": [
        "!pip install simpleai"
      ]
    },
    {
      "cell_type": "code",
      "execution_count": null,
      "metadata": {
        "id": "J7c4R-xJVLKS"
      },
      "outputs": [],
      "source": [
        "from simpleai.search import SearchProblem, astar\n",
        "\n",
        "GOAL = 'HELLO WORLD'\n",
        "\n",
        "\n",
        "class HelloProblem(SearchProblem):\n",
        "    def actions(self, state):\n",
        "        if len(state) < len(GOAL):\n",
        "            return list(' ABCDEFGHIJKLMNOPQRSTUVWXYZ')\n",
        "        else:\n",
        "            return []\n",
        "\n",
        "    def result(self, state, action):    # (self, string hasta ahora, char a añadir)\n",
        "        return state + action\n",
        "\n",
        "    def is_goal(self, state):\n",
        "        return state == GOAL\n",
        "\n",
        "    def heuristic(self, state):\n",
        "        # how far are we from the goal?\n",
        "        wrong = sum([1 if state[i] != GOAL[i] else 0\n",
        "                    for i in range(len(state))])\n",
        "        missing = len(GOAL) - len(state)\n",
        "        return wrong + missing"
      ]
    },
    {
      "cell_type": "code",
      "execution_count": null,
      "metadata": {
        "colab": {
          "base_uri": "https://localhost:8080/"
        },
        "id": "DftIAkEHVWrS",
        "outputId": "aecc4898-508c-4d23-ec1d-105ebde9e462"
      },
      "outputs": [
        {
          "name": "stdout",
          "output_type": "stream",
          "text": [
            "HELLO WORLD\n",
            "[(None, ''), ('H', 'H'), ('E', 'HE'), ('L', 'HEL'), ('L', 'HELL'), ('O', 'HELLO'), (' ', 'HELLO '), ('W', 'HELLO W'), ('O', 'HELLO WO'), ('R', 'HELLO WOR'), ('L', 'HELLO WORL'), ('D', 'HELLO WORLD')]\n"
          ]
        }
      ],
      "source": [
        "problem = HelloProblem(initial_state='HE')\n",
        "result = astar(problem)\n",
        "\n",
        "print(result.state)\n",
        "print(result.path())"
      ]
    }
  ],
  "metadata": {
    "colab": {
      "provenance": []
    },
    "kernelspec": {
      "display_name": "Python 3",
      "name": "python3"
    },
    "language_info": {
      "name": "python",
      "version": "3.13.5"
    }
  },
  "nbformat": 4,
  "nbformat_minor": 0
}
